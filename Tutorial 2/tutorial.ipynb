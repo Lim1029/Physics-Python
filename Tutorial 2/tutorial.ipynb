{
 "cells": [
  {
   "cell_type": "code",
   "execution_count": 81,
   "metadata": {},
   "outputs": [],
   "source": [
    "import numpy as np\n",
    "import matplotlib.pyplot as plt"
   ]
  },
  {
   "cell_type": "code",
   "execution_count": 82,
   "metadata": {},
   "outputs": [],
   "source": [
    "# define function square root of x\n",
    "def fun(x):\n",
    "   return np.sqrt(x)"
   ]
  },
  {
   "cell_type": "code",
   "execution_count": 110,
   "metadata": {},
   "outputs": [],
   "source": [
    "#define interval, start and end point and number of node\n",
    "interval = [0,1]\n",
    "start = interval[0]\n",
    "end = interval[1]\n",
    "n_node = 16\n",
    "\n",
    "#create x and y with equally spaced nodes (linspace)\n",
    "x_array = np.linspace(start,end,n_node)\n",
    "y_array = fun(x_array)"
   ]
  },
  {
   "cell_type": "code",
   "execution_count": 84,
   "metadata": {},
   "outputs": [],
   "source": [
    "#Specific Case (only for n_nodes = 4), i did this to find the pattern so that i could make a general case\n",
    "\n",
    "a = []\n",
    "for i in range(n_node-1):\n",
    "    a.append((y_array[i+1]-y_array[i])/(x_array[i+1]-x_array[i]))\n",
    "\n",
    "b = []\n",
    "for i in range(n_node-2):\n",
    "    b.append((a[i+1]-a[i])/(x_array[i+2]-x_array[i]))\n",
    "\n",
    "c = []\n",
    "for i in range(n_node-3):\n",
    "    c.append((b[i+1]-b[i])/(x_array[i+3]-x_array[i]))"
   ]
  },
  {
   "cell_type": "code",
   "execution_count": 111,
   "metadata": {},
   "outputs": [],
   "source": [
    "# General case, for any n_nodes\n",
    "coefff = []\n",
    "g = y_array.copy()\n",
    "for k in range(1,n_node):\n",
    "    a = []\n",
    "    for i in range(n_node-k):\n",
    "        a.append((g[i+1]-g[i])/(x_array[i+k]-x_array[i]))\n",
    "    coefff.append(a[0])\n",
    "    g = a.copy()"
   ]
  },
  {
   "cell_type": "code",
   "execution_count": 114,
   "metadata": {},
   "outputs": [],
   "source": [
    "# calculate y_pred using the interpolation formula: a0 + a1(x-x0)...\n",
    "y_pred = []\n",
    "for x in x_array:\n",
    "    y = y_array[0]\n",
    "    for i in range(n_node-1):\n",
    "        y_i = coefff[i]\n",
    "        for j in range(i+1):\n",
    "            y_i *= (x-x_array[j])\n",
    "        y += y_i\n",
    "    y_pred.append(y)"
   ]
  },
  {
   "cell_type": "code",
   "execution_count": 102,
   "metadata": {},
   "outputs": [
    {
     "data": {
      "text/plain": [
       "[0.0,\n",
       " 0.3779644730092272,\n",
       " 0.5345224838248488,\n",
       " 0.6546536707079772,\n",
       " 0.7559289460184542,\n",
       " 0.8451542547285162,\n",
       " 0.9258200997725512,\n",
       " 0.9999999999999988]"
      ]
     },
     "execution_count": 102,
     "metadata": {},
     "output_type": "execute_result"
    }
   ],
   "source": [
    "y_pred"
   ]
  },
  {
   "cell_type": "code",
   "execution_count": 103,
   "metadata": {},
   "outputs": [
    {
     "data": {
      "text/plain": [
       "array([0.        , 0.37796447, 0.53452248, 0.65465367, 0.75592895,\n",
       "       0.84515425, 0.9258201 , 1.        ])"
      ]
     },
     "execution_count": 103,
     "metadata": {},
     "output_type": "execute_result"
    }
   ],
   "source": [
    "y_array"
   ]
  },
  {
   "cell_type": "code",
   "execution_count": 104,
   "metadata": {},
   "outputs": [],
   "source": [
    "import matplotlib.pyplot as plt"
   ]
  },
  {
   "cell_type": "code",
   "execution_count": 115,
   "metadata": {},
   "outputs": [
    {
     "data": {
      "text/plain": [
       "[<matplotlib.lines.Line2D at 0x196953a5b40>]"
      ]
     },
     "execution_count": 115,
     "metadata": {},
     "output_type": "execute_result"
    },
    {
     "data": {
      "image/png": "[encoded data removed]",
      "text/plain": [
       "<Figure size 432x288 with 1 Axes>"
      ]
     },
     "metadata": {
      "needs_background": "light"
     },
     "output_type": "display_data"
    }
   ],
   "source": [
    "plt.plot(x_array,abs(y_array-y_pred), 'bo')\n",
    "# plt.plot(x_array,y_pred, \"bo\", color=\"green\")"
   ]
  },
  {
   "cell_type": "code",
   "execution_count": 116,
   "metadata": {},
   "outputs": [
    {
     "name": "stderr",
     "output_type": "stream",
     "text": [
      "C:\\Users\\mk102\\AppData\\Local\\Temp/ipykernel_20040/3796342099.py:1: UserWarning: color is redundantly defined by the 'color' keyword argument and the fmt string \"bo\" (-> color='b'). The keyword argument will take precedence.\n",
      "  plt.plot(x_array,y_pred, \"bo\", color=\"green\")\n",
      "C:\\Users\\mk102\\AppData\\Local\\Temp/ipykernel_20040/3796342099.py:2: UserWarning: color is redundantly defined by the 'color' keyword argument and the fmt string \"bo\" (-> color='b'). The keyword argument will take precedence.\n",
      "  plt.plot(x_array,y_array, \"bo\", color=\"red\")\n"
     ]
    },
    {
     "data": {
      "text/plain": [
       "[<matplotlib.lines.Line2D at 0x1969580d6f0>]"
      ]
     },
     "execution_count": 116,
     "metadata": {},
     "output_type": "execute_result"
    },
    {
     "data": {
      "image/png": "[encoded data removed]",
      "text/plain": [
       "<Figure size 432x288 with 1 Axes>"
      ]
     },
     "metadata": {
      "needs_background": "light"
     },
     "output_type": "display_data"
    }
   ],
   "source": [
    "plt.plot(x_array,y_pred, \"bo\", color=\"green\")\n",
    "plt.plot(x_array,y_array, \"bo\", color=\"red\")"
   ]
  },
  {
   "cell_type": "code",
   "execution_count": null,
   "metadata": {},
   "outputs": [],
   "source": []
  }
 ],
 "metadata": {
  "interpreter": {
   "hash": "41fb6f42c941f3fcf46e6a69fd3fab65529caaaede1028070cf8b768ae23d3b9"
  },
  "kernelspec": {
   "display_name": "Python 3.10.0 64-bit",
   "language": "python",
   "name": "python3"
  },
  "language_info": {
   "codemirror_mode": {
    "name": "ipython",
    "version": 3
   },
   "file_extension": ".py",
   "mimetype": "text/x-python",
   "name": "python",
   "nbconvert_exporter": "python",
   "pygments_lexer": "ipython3",
   "version": "3.10.0"
  },
  "orig_nbformat": 4
 },
 "nbformat": 4,
 "nbformat_minor": 2
}
