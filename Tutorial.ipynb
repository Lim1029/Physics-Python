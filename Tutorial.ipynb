{
 "cells": [
  {
   "cell_type": "code",
   "execution_count": 28,
   "metadata": {},
   "outputs": [],
   "source": [
    "import numpy as np\n",
    "import math as mt"
   ]
  },
  {
   "cell_type": "code",
   "execution_count": 8,
   "metadata": {},
   "outputs": [
    {
     "data": {
      "text/plain": [
       "2.8282762"
      ]
     },
     "execution_count": 8,
     "metadata": {},
     "output_type": "execute_result"
    }
   ],
   "source": [
    "np.float16(2**(1/2)) + np.float32(2**(1/2))"
   ]
  },
  {
   "cell_type": "code",
   "execution_count": 9,
   "metadata": {},
   "outputs": [
    {
     "data": {
      "text/plain": [
       "2.828427"
      ]
     },
     "execution_count": 9,
     "metadata": {},
     "output_type": "execute_result"
    }
   ],
   "source": [
    "np.float32(2**(1/2)) + np.float32(2**(1/2))"
   ]
  },
  {
   "cell_type": "code",
   "execution_count": 15,
   "metadata": {},
   "outputs": [
    {
     "data": {
      "text/plain": [
       "2.8284271247461903"
      ]
     },
     "execution_count": 15,
     "metadata": {},
     "output_type": "execute_result"
    }
   ],
   "source": [
    "np.float64(2**(1/2)) + np.float64(2**(1/2))"
   ]
  },
  {
   "cell_type": "code",
   "execution_count": 16,
   "metadata": {},
   "outputs": [
    {
     "data": {
      "text/plain": [
       "1.4142135623730951"
      ]
     },
     "execution_count": 16,
     "metadata": {},
     "output_type": "execute_result"
    }
   ],
   "source": [
    "2**(1/2)"
   ]
  },
  {
   "cell_type": "code",
   "execution_count": 17,
   "metadata": {},
   "outputs": [
    {
     "data": {
      "text/plain": [
       "0.9900498337491681"
      ]
     },
     "execution_count": 17,
     "metadata": {},
     "output_type": "execute_result"
    }
   ],
   "source": [
    "np.exp(-.01)"
   ]
  },
  {
   "cell_type": "code",
   "execution_count": 18,
   "metadata": {},
   "outputs": [
    {
     "name": "stdout",
     "output_type": "stream",
     "text": [
      "0.9900498333333333\n"
     ]
    }
   ],
   "source": [
    "x = .01\n",
    "print(1-x+(1/2)*(x**2)-(1/6)*(x**3))"
   ]
  },
  {
   "cell_type": "code",
   "execution_count": 19,
   "metadata": {},
   "outputs": [
    {
     "name": "stdout",
     "output_type": "stream",
     "text": [
      "1.718281828459045\n",
      "1.2974425414002564\n",
      "1.1361016667509656\n",
      "1.0651876245346106\n",
      "1.0319113426857491\n",
      "1.0157890399712883\n",
      "1.0078533495478865\n",
      "1.00391644242535\n",
      "1.001955670616951\n",
      "1.0009771985934321\n",
      "1.0004884402344487\n",
      "1.0002441803662805\n",
      "1.0001220802469106\n",
      "1.0000610376391705\n",
      "1.0000305182002194\n",
      "1.0000152589418576\n",
      "1.000007629438187\n",
      "1.0000038146972656\n",
      "1.0000019073486328\n",
      "1.0000009536743164\n",
      "1.0000004768371582\n",
      "1.000000238418579\n",
      "1.0000001192092896\n",
      "1.0000000596046448\n",
      "1.0000000298023224\n",
      "1.0000000149011612\n",
      "1.0\n",
      "1.0\n",
      "1.0\n",
      "1.0\n",
      "1.0\n",
      "1.0\n",
      "1.0\n",
      "1.0\n",
      "1.0\n",
      "1.0\n",
      "1.0\n",
      "1.0\n",
      "1.0\n",
      "1.0\n",
      "1.0\n",
      "1.0\n",
      "1.0\n",
      "1.0\n",
      "1.0\n",
      "1.0\n",
      "1.0\n",
      "1.0\n",
      "1.0\n",
      "1.0\n",
      "1.0\n",
      "1.0\n",
      "1.0\n",
      "0.0\n",
      "teaadsadasdasd\n"
     ]
    }
   ],
   "source": [
    "def func(x):\n",
    "    return (np.exp(x) - 1)/x\n",
    "    # return (np.exp(x) - 1) / x\n",
    "\n",
    "for i in range (100):\n",
    "    x = 2**(-i)\n",
    "    a = func(x)\n",
    "    print(a)\n",
    "    if a == 0:\n",
    "        print(\"teaadsadasdasd\")\n",
    "        break"
   ]
  },
  {
   "cell_type": "code",
   "execution_count": 20,
   "metadata": {},
   "outputs": [
    {
     "name": "stdout",
     "output_type": "stream",
     "text": [
      "3.0000029997978572e-06\n",
      "3.000003000019902e-06\n"
     ]
    }
   ],
   "source": [
    "# question 2a)\n",
    "e = 0.000001\n",
    "x = 1.0\n",
    "\n",
    "print((x+e)**3-1)\n",
    "print(x**3+3*x**2*e+3*x*e**2+e**3-1)"
   ]
  },
  {
   "cell_type": "code",
   "execution_count": 27,
   "metadata": {},
   "outputs": [
    {
     "name": "stdout",
     "output_type": "stream",
     "text": [
      "(-0.9999999999999999+2.2985180676208716j)\n",
      "(-6.283185307179588-14.442014950762275j)\n"
     ]
    }
   ],
   "source": [
    "# question 2b)\n",
    "b = 1.0\n",
    "c = np.pi\n",
    "\n",
    "print(-b + (b**2-2*c)**(1/2))\n",
    "print(2*c*(-b-(b**2-2*c)**(1/2)))"
   ]
  },
  {
   "cell_type": "code",
   "execution_count": null,
   "metadata": {},
   "outputs": [],
   "source": [
    "# question 5a)\n",
    "def sin(x,i,n):\n",
    "    if i == n:\n",
    "        return ((-1)**n*x**(2*n+1))/mt.factorial(2*n+1)\n",
    "    return ((-1)**n*x**(2*n+1))/mt.factorial(2*n+1) + sin(x,i,i+1)"
   ]
  },
  {
   "cell_type": "code",
   "execution_count": null,
   "metadata": {},
   "outputs": [],
   "source": []
  }
 ],
 "metadata": {
  "interpreter": {
   "hash": "b7758cb3a1116e70c8147e9a706356bcd95dd1f6b99feaf6bffe35a25719194c"
  },
  "kernelspec": {
   "display_name": "Python 3.10.0 64-bit (windows store)",
   "language": "python",
   "name": "python3"
  },
  "language_info": {
   "codemirror_mode": {
    "name": "ipython",
    "version": 3
   },
   "file_extension": ".py",
   "mimetype": "text/x-python",
   "name": "python",
   "nbconvert_exporter": "python",
   "pygments_lexer": "ipython3",
   "version": "3.10.0"
  },
  "orig_nbformat": 4
 },
 "nbformat": 4,
 "nbformat_minor": 2
}
