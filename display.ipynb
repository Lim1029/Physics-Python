{
 "cells": [
  {
   "cell_type": "code",
   "execution_count": 4,
   "metadata": {},
   "outputs": [
    {
     "name": "stdout",
     "output_type": "stream",
     "text": [
      "True Value 0.36787944117144233\n",
      "Equation 1:  0.33333333333333337 relative error:  0.09390605718031818\n",
      "Equation 2:  0.375 relative error:  0.01935568567214193\n"
     ]
    }
   ],
   "source": [
    "# Question 3\n",
    "import math as mt\n",
    "import numpy as np\n",
    "\n",
    "# method 1\n",
    "def e_exp_x1(order,x):\n",
    "    sum = 0\n",
    "    for n in range (order+1):\n",
    "        # (((-1)**n)*(x**n))/mt.factorial(n) is the general formula for n_th term\n",
    "        sum += (((-1)**n)*(x**n))/mt.factorial(n)\n",
    "    return sum\n",
    "\n",
    "# method 2\n",
    "def e_exp_x2(order,x):\n",
    "    sum = 0\n",
    "    for n in range (order+1):\n",
    "        # (x**n)/mt.factorial(n) is the general formula for the n_th term in the denominator \n",
    "        sum += (x**n)/mt.factorial(n)\n",
    "    return 1/sum\n",
    "\n",
    "#specify the order and x value of taylor series\n",
    "x = 1\n",
    "order = 3\n",
    "\n",
    "#calculate sum of series with two equations\n",
    "eq1 = e_exp_x1(order=order,x=x)\n",
    "eq2 = e_exp_x2(order=order,x=x)\n",
    "\n",
    "#get real value from math function\n",
    "true_val = mt.e**(-x)\n",
    "\n",
    "#calculate relative error for both equations\n",
    "error1 = abs(eq1-true_val)/true_val\n",
    "error2 = abs(eq2-true_val)/true_val\n",
    "\n",
    "# print all output with description\n",
    "print(\"True Value\", true_val)\n",
    "print(\"Equation 1: \", eq1, \"relative error: \", error1)\n",
    "print(\"Equation 2: \", eq2, \"relative error: \", error2)\n",
    "\n",
    "#conclusion: method 2 [1/series] is more subjected to error\n",
    "#the series is a special type of taylor series which expand at x = 0 (known as machaurin series), so when tested x with large value (eg 2 or 100), the error increase rapidly\n",
    "#the higher the order, the smaller the error for both equations"
   ]
  },
  {
   "cell_type": "code",
   "execution_count": null,
   "metadata": {},
   "outputs": [],
   "source": []
  }
 ],
 "metadata": {
  "interpreter": {
   "hash": "fac2425d98c7317c2c413b766fd4b9e2a5a80a7e8ccca0854d4864eada886c42"
  },
  "kernelspec": {
   "display_name": "Python 3.7.9 64-bit",
   "language": "python",
   "name": "python3"
  },
  "language_info": {
   "codemirror_mode": {
    "name": "ipython",
    "version": 3
   },
   "file_extension": ".py",
   "mimetype": "text/x-python",
   "name": "python",
   "nbconvert_exporter": "python",
   "pygments_lexer": "ipython3",
   "version": "3.7.9"
  },
  "orig_nbformat": 4
 },
 "nbformat": 4,
 "nbformat_minor": 2
}
